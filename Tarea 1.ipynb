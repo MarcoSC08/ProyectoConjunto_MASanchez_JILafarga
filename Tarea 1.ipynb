{
 "cells": [
  {
   "cell_type": "markdown",
   "metadata": {},
   "source": [
    "<img style=\"float: left; margin: 30px 15px 15px 15px;\" src=\"https://pngimage.net/wp-content/uploads/2018/06/logo-iteso-png-5.png\" width=\"300\" height=\"500\" /> \n",
    "    \n",
    "    \n",
    "### <font color='navy'> Simulación de procesos financieros. \n",
    "\n",
    "**Nombres:** Marco Antonio Sánchez Covarrubias. Jesus Iván Lafarga.\n",
    "\n",
    "**Fecha:** 29 de Agosto del 2021.\n",
    "\n",
    "**Expediente** : 720268, 708989.\n",
    "    \n",
    "**Profesor:** Oscar David Jaramillo Zuluaga.\n",
    "    \n",
    "**Link Github**: https://github.com/MarcoSC08/ProyectoConjunto_MASanchez_JILafarga\n",
    "\n",
    "# Tarea 1: Clase 2"
   ]
  },
  {
   "cell_type": "markdown",
   "metadata": {},
   "source": [
    "## Enunciado de tarea \n",
    "> Realizar una presentación describiendo sus expectativas del curso y la transcipción de la Figura 1 y Figura 2 respectivamente, haciendo uso de la sintaxis Markdown.\n",
    "Luego de culminado los pasos anteriores, el ESTUDIANTE 1,realizará un programa que imprima la serie de fibonacci para sus primeros 100 términos en un array de python,usando la rama “master” del repositorio creado. Por otro lado, el ESTUDIANTE 2,creando un “branch” llamado `ejerPrograma`, generará un programa que muestre los números primos del 0-100. "
   ]
  },
  {
   "cell_type": "markdown",
   "metadata": {},
   "source": [
    "### Ejercicio 1: Realizar una presentación describiendo sus expectativas del curso y la transcipción de la Figura 1 y Figura 2 respectivamente"
   ]
  },
  {
   "cell_type": "markdown",
   "metadata": {},
   "source": [
    "Código de solución estudiante 1"
   ]
  },
  {
   "cell_type": "markdown",
   "metadata": {},
   "source": [
    "Como expectativa principal del curso está el ser capaz de analizar el comportamiento de diversos procesos financieros y poder generar recomendaciones  sobre  procesos  de  simulación  financiera  para  la  toma  de decisiones."
   ]
  },
  {
   "cell_type": "code",
   "execution_count": 1,
   "metadata": {},
   "outputs": [],
   "source": [
    "# Código de solución estudiante 1"
   ]
  },
  {
   "cell_type": "markdown",
   "metadata": {},
   "source": [
    "\n",
    "|  $$i$$ |   $$x$$  |  $$f(x)$$  |\n",
    "|:-:|:----:|:------:|\n",
    "| 0 |  -1  | 0.3678 |\n",
    "| <font color= red > 1</font> | <font color= red > -0.5</font> |  <font color= red > 0.7788 </font> |\n",
    "| <font color= blue > 2</font> | <font color= blue > 0</font> |  <font color= blue > 1</font> |\n",
    "| <font color= red > 3</font> | <font color= red > 0.5</font> |  <font color= red > 0.7788 </font> |\n",
    "| 4 |   1  | 0.3678 |\n",
    "\n",
    "\n",
    "<div align=\"center\"> Cuadro 1.Tabla de valores de $f(x)$</div>"
   ]
  },
  {
   "cell_type": "markdown",
   "metadata": {},
   "source": [
    "\n",
    "<div align=\"center\">\n",
    "$\\int_{-1}^{1} e^{-x2} dx$   $\\approx$ $\\frac{0.5}{3}$ $[f(-1)+f(1)+4$ (<font color= red > $f(-0.5)+f(0.5)$</font>) $+2$<font color= blue > $f(0)$</font>$]$\n",
    "</div>\n",
    "  "
   ]
  },
  {
   "cell_type": "markdown",
   "metadata": {},
   "source": [
    "<div align=\"center\">\n",
    "$\\approx$ $\\frac{0.5}{3}$ $[0.3678 + 0.3678 + 4$ (<font color= red > $0.7788 + 0.7788$</font>) $+2$ $\\cdot$ <font color= blue > $1$</font>$]$ $\\approx$ $1.4943$\n",
    "</div>"
   ]
  },
  {
   "cell_type": "markdown",
   "metadata": {},
   "source": [
    "*A modo de verificación, se calculará por software, el valor del área para n=100, un valor mucho más elevado al que se utilizó anteriormente. Si lo calculado previamente es correcto, se esperaría que sea próximo al valor presentado a continuación para ser una buena aproximación.*"
   ]
  },
  {
   "cell_type": "markdown",
   "metadata": {},
   "source": [
    "\\begin{equation}\n",
    "\\int_{-1}^{1} e^{-x2}  dx  \\approx 1.4936\n",
    "\\end{equation}"
   ]
  },
  {
   "cell_type": "markdown",
   "metadata": {},
   "source": [
    "Código de solución estudiante 2"
   ]
  },
  {
   "cell_type": "markdown",
   "metadata": {},
   "source": [
    "### Ivan Lafarga"
   ]
  },
  {
   "cell_type": "markdown",
   "metadata": {},
   "source": [
    "Mi nombre es Ivan Lafarga , estoy en 8vo semestre de la carrera de ing. financiera me gusta el deporte , el arte , la musica y las finanzas entre otra muchas otras cosas más siempre termino llevando cada pensamiento lo más profundo que pueda llegar soy fanatico de la filosofila y las matematicas.\n",
    "Mis expectativas del curso son reforzar mis aprendizajes de python, con mejores forma de pensamiento para razonar las soluciones y eficientando la manera de programar para hacerla más sencilla y concisa."
   ]
  },
  {
   "cell_type": "markdown",
   "metadata": {},
   "source": []
  },
  {
   "cell_type": "markdown",
   "metadata": {},
   "source": [
    "\n",
    "\\begin{array}{|c|c|c|c|c|c|c|c|}\n",
    "\\hline\n",
    "    i & 1 & 2 & 3 & 4 & 5 & 6 & 7 \\\\\\\\ \\hline\n",
    "    E_i(V) & 12  & 10 & 24 & 12 & - & - & -  \\\\\\\\ \\hline\n",
    "    r_i(\\Omega)  & 0.1  & 0.5 & 0.2 & 0.5 & - & - & -  \\\\\\\\ \\hline\n",
    "    R_i(\\Omega)  & 25  & 40 & 16 & 20 & 9 & 4 & 20 \\\\\\\\ \\hline\n",
    "\\end{array}"
   ]
  },
  {
   "cell_type": "markdown",
   "metadata": {},
   "source": [
    "# Código de solución estudiante 2\n",
    " <font color= 00BFFF > Kemma y Vorst (1990)</font> *Muestran que las opciones asiáticas con media geométrica continua se pueden valuar con el mismo enfoque de las opciones _plain vanilla_;solo cambiar los parámetros de volatilidad $\\sigma$ por $\\sigma_a$, y el costo de acarreo $b$ por $b_a$*.\\\n",
    "   De acuerdo con *Kemma y Vorst*,las fórmulas para evaluar una opción de compra y una opción de venta son:\n",
    "\n",
    "\n",
    "$$c\\approx S_te^{(b_A-r)(T-t)}\\phi(d_1)-Ke^{-r(T-t)}\\phi(d_2)$$\n",
    "\n",
    "$$p\\approx Ke-r^{(T-t)}\\phi(-d_2)-S_te^{(b_A-r)(T-\n",
    "t)}\\phi(-d_1)$$\\\n",
    "con $d_1$ y $d_2$ dados por: \n",
    "$$d_1= \\frac{ln(S_t/K))+(b_A + 1/2\\sigma^2_a)(T-t)}{\\sigma\\sqrt{T-t}}$$$\n",
    "$$d_2=d_1-\\sigma_a\\sqrt{T-t}$\n",
    "\n",
    "La función $\\phi(d)$ es la función de destribución acumulada de E $\\sim$N(0,1).La volatilidad ajustada es igual a:\\\n",
    "$\\sigma_a = \\frac{\\sigma}{\\sqrt{3}}$,\\\n",
    "mientras que el costo de acarreo ajustado es:\\\n",
    "$b_A=\\frac{1}{2}(v-\\frac{\\sigma^2}{{6}}).$\n"
   ]
  },
  {
   "cell_type": "markdown",
   "metadata": {},
   "source": [
    "### Ejercicio 2: Serie de fibonacci para sus primeros 100 términos en un array de python (estudiante 1),  programa que muestre los números primos del 0-100. (estudiante 2)"
   ]
  },
  {
   "cell_type": "code",
   "execution_count": 2,
   "metadata": {},
   "outputs": [],
   "source": [
    "# Código de solución estudiante 1\n",
    "\n",
    "\n"
   ]
  },
  {
   "cell_type": "markdown",
   "metadata": {},
   "source": [
    "### Respuesta planteada en el ejercicio usando (markdown)\n",
    " La respuesta es ........."
   ]
  },
  {
   "cell_type": "code",
   "execution_count": 2,
   "metadata": {},
   "outputs": [
    {
     "data": {
      "text/plain": [
       "array([ 2,  3,  5,  7, 11, 13, 17, 19, 23, 29, 31, 37, 41, 43, 47, 53, 59,\n",
       "       61, 67, 71, 73, 79, 83, 89, 97])"
      ]
     },
     "execution_count": 2,
     "metadata": {},
     "output_type": "execute_result"
    }
   ],
   "source": [
    "# Código de solución estudiante 2\n",
    "#Algoritmo para imprimir números primos del 0 al 100\n",
    "import numpy as np\n",
    "prim =[]\n",
    "#aplicar algorimo de módulo para encontrar primos\n",
    "for i in range(2,100):\n",
    "    if (i%2!=0 or i==2) and (i%3!=0 or i==3) and (i%5!=0 or i==5) and (i%7!=0 or i==7):\n",
    "      prim.append(i) \n",
    "prim = np.array(prim)\n",
    "prim"
   ]
  },
  {
   "cell_type": "markdown",
   "metadata": {},
   "source": [
    "### Respuesta planteada en el ejercicio usando (markdown)\n",
    " La respuesta es ........."
   ]
  },
  {
   "cell_type": "markdown",
   "metadata": {},
   "source": [
    "Aqui se realizo un ciclo for con iteraciones en un rango en de 2 a 100 , con ayuda de un if es verificar que no sea divisible entre 2 o sea 2 lo mismo para 3, 5 y 7 de esta manera va agregando numeros primos de acuerdo la criba de Erastótenes "
   ]
  },
  {
   "cell_type": "code",
   "execution_count": null,
   "metadata": {},
   "outputs": [],
   "source": []
  }
 ],
 "metadata": {
  "kernelspec": {
   "display_name": "Python 3",
   "language": "python",
   "name": "python3"
  },
  "language_info": {
   "codemirror_mode": {
    "name": "ipython",
    "version": 3
   },
   "file_extension": ".py",
   "mimetype": "text/x-python",
   "name": "python",
   "nbconvert_exporter": "python",
   "pygments_lexer": "ipython3",
   "version": "3.8.8"
  }
 },
 "nbformat": 4,
 "nbformat_minor": 2
}
